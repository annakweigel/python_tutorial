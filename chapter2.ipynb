{
 "cells": [
  {
   "cell_type": "markdown",
   "metadata": {},
   "source": [
    "# Numpy"
   ]
  },
  {
   "cell_type": "markdown",
   "metadata": {},
   "source": [
    "One of the most important packages is 'numpy'. There's basically no way around numpy, as it includes various numerical functions and is crucial for everything to do with arrays. When you're starting a new script, numpy should be the first pmackage you import. It is custom to import numpy as 'np'. "
   ]
  },
  {
   "cell_type": "markdown",
   "metadata": {},
   "source": [
    "## Reading in packages"
   ]
  },
  {
   "cell_type": "code",
   "execution_count": null,
   "metadata": {
    "collapsed": true
   },
   "outputs": [],
   "source": [
    "# read in the entire package and give it an abbreviation to be able to refer to it\n",
    "import numpy as np \n",
    "# other popular examples are\n",
    "# import matplotlib.pyplot as plt \n",
    "# or only read in one particular class\n",
    "# from astropy.io import fits"
   ]
  },
  {
   "cell_type": "markdown",
   "metadata": {},
   "source": [
    "## Basic numpy functions"
   ]
  },
  {
   "cell_type": "markdown",
   "metadata": {},
   "source": [
    "numpy functions include everything from square roots to logarithms to everything you need to read and write text files (and probably a ton of functions you will never need)."
   ]
  },
  {
   "cell_type": "code",
   "execution_count": null,
   "metadata": {
    "collapsed": false
   },
   "outputs": [],
   "source": [
    "# square root\n",
    "a = 100\n",
    "print ('the square root of ' + str(a) +  ' is ', np.sqrt(100))\n",
    "# logarithms\n",
    "print ('the natural logarithm of ' + str(a) + ' is ', np.log(a))\n",
    "print ('the base 10 logarithm of ' + str(a) + ' is ', np.log10(a)) \n",
    "\n",
    "# trigonometric functions\n",
    "b = np.pi \n",
    "c = 1\n",
    "print ('cos(pi) = ', np.cos(b))\n",
    "print ('arcsin(1) = ', np.arcsin(1)/np.pi, ' pi.')\n",
    "\n",
    "# sort by value\n",
    "d = [6, 7, 8, 3, 4, 10]\n",
    "print ('d sorted from small to large values: ', np.sort(d))\n",
    "\n",
    "# minimum and maximum\n",
    "print ('the smallest value in the list d is ', np.min(d))\n",
    "print ('the largest value in the list d is ', np.max(d))"
   ]
  },
  {
   "cell_type": "markdown",
   "metadata": {},
   "source": [
    "## arrays"
   ]
  },
  {
   "cell_type": "markdown",
   "metadata": {},
   "source": [
    "numpy easily let's you create arrays of various shapes and sizes "
   ]
  },
  {
   "cell_type": "code",
   "execution_count": null,
   "metadata": {
    "collapsed": false
   },
   "outputs": [],
   "source": [
    "# define an array with known values\n",
    "a = np.array([[1, 2, 3], [4, 5, 6], [7, 8, 9]])\n",
    "# and print its elements (row first, column second)\n",
    "print ('entire array: ')\n",
    "print (a)\n",
    "print ('first row: ', a[0,:])\n",
    "print ('first column: ', a[:,0])\n",
    "print ('element in the middle: ', a[1, 1])\n",
    "\n",
    "# we can also create arrays full of zeros or ones\n",
    "# in the shape argument the first number corresponds to the number of \n",
    "# rows, the second to the number of columns\n",
    "b = np.zeros(shape=(3,3))\n",
    "print ('array full of zeros: ')\n",
    "print (b)\n",
    "c = np.ones(shape=(4, 3))\n",
    "print ('array full of ones: ')\n",
    "print (c)\n",
    "\n",
    "# we can also create 1D arrays\n",
    "# this will create an array with 10 entries, the first one being 50\n",
    "# and the last one being 59, the stepsize is 1\n",
    "d = np.arange(50, 60, 1)\n",
    "print ('1D array with values form 50 to 59 (arange): ', d)\n",
    "# this will create an array with 20 equally spaced entries with the minimum \n",
    "# value being 50 and the maximum value being 60\n",
    "# careful: the last value is included here!\n",
    "e = np.linspace(50, 60, 20)\n",
    "print ('1D array with 20 entries between 50 and 60 (linspace): ')\n",
    "print e"
   ]
  },
  {
   "cell_type": "markdown",
   "metadata": {},
   "source": [
    "Arrays can be added up and subtracted. We can also multipy all entries by the same value."
   ]
  },
  {
   "cell_type": "code",
   "execution_count": null,
   "metadata": {
    "collapsed": false
   },
   "outputs": [],
   "source": [
    "a = np.array([[1, 2, 3], [4, 5, 6], [7, 8, 9]])\n",
    "b = np.array([[9, 8, 7], [6, 5, 4], [3, 2, 1]])\n",
    "print ('sum of arrays a and b: ')\n",
    "print (a + b)\n",
    "print ('difference between arrays b and a: ')\n",
    "print b - a\n",
    "print ('array a multiplied by 10: ')\n",
    "print a * 10\n",
    "print ('elementwise product of arrays a and b:')\n",
    "print a * b\n",
    "# and of course we can also sum up all array entries\n",
    "print ('sum of all elemets of array a: ', np.sum(a))\n",
    "\n",
    "# the np.ones function is very useful if you want to fill an entire array\n",
    "# with the same value\n",
    "c = 999. * np.ones(shape=(2,2))\n",
    "print ('array with default values: ')\n",
    "print (c)"
   ]
  },
  {
   "cell_type": "markdown",
   "metadata": {},
   "source": [
    "# A word of caution"
   ]
  },
  {
   "cell_type": "markdown",
   "metadata": {},
   "source": [
    "__Never__ do the following: "
   ]
  },
  {
   "cell_type": "code",
   "execution_count": null,
   "metadata": {
    "collapsed": false
   },
   "outputs": [],
   "source": [
    "a = np.arange(1, 10)\n",
    "b = a\n",
    "print ('array a: ', a)\n",
    "print ('array b: ', b)\n",
    "a[0] = 500\n",
    "print ('array a: ', a)\n",
    "print ('array b:', b)"
   ]
  },
  {
   "cell_type": "markdown",
   "metadata": {},
   "source": [
    "Setting b=a will lead to b always being linked to a. So by changing a, you are changing b. Avoid doing this at all costs and use the following alternative:"
   ]
  },
  {
   "cell_type": "code",
   "execution_count": null,
   "metadata": {
    "collapsed": false
   },
   "outputs": [],
   "source": [
    "a = np.arange(1, 10)\n",
    "b = a.copy()\n",
    "print ('array a: ', a)\n",
    "print ('array b: ', b)\n",
    "a[0] = 500\n",
    "print ('array a: ', a)\n",
    "print ('array b: ', b)"
   ]
  },
  {
   "cell_type": "code",
   "execution_count": null,
   "metadata": {
    "collapsed": true
   },
   "outputs": [],
   "source": []
  }
 ],
 "metadata": {
  "kernelspec": {
   "display_name": "Python 2",
   "language": "python",
   "name": "python2"
  },
  "language_info": {
   "codemirror_mode": {
    "name": "ipython",
    "version": 2
   },
   "file_extension": ".py",
   "mimetype": "text/x-python",
   "name": "python",
   "nbconvert_exporter": "python",
   "pygments_lexer": "ipython2",
   "version": "2.7.5"
  }
 },
 "nbformat": 4,
 "nbformat_minor": 0
}
