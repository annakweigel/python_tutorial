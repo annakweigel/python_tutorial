{
 "cells": [
  {
   "cell_type": "markdown",
   "metadata": {},
   "source": [
    "# Dictionaries"
   ]
  },
  {
   "cell_type": "code",
   "execution_count": null,
   "metadata": {
    "collapsed": true
   },
   "outputs": [],
   "source": [
    "import numpy as np"
   ]
  },
  {
   "cell_type": "markdown",
   "metadata": {},
   "source": [
    "## Basic dictionaries"
   ]
  },
  {
   "cell_type": "markdown",
   "metadata": {},
   "source": [
    "Dictionaries are similar to lists, their entries are however unordered. We can access a dictionary's items via a keyword and not via their position. And so every key of the dictionary is associated to a value. The basic syntax of a dictionary is the following:"
   ]
  },
  {
   "cell_type": "code",
   "execution_count": null,
   "metadata": {
    "collapsed": true
   },
   "outputs": [],
   "source": [
    "dictionary = {'key_1': 1., \n",
    "              'key_2': 2., \n",
    "              'key_3': 3.}"
   ]
  },
  {
   "cell_type": "markdown",
   "metadata": {},
   "source": [
    "Here, 1, 2, and 3 are the values correpsonding to the keywords 'key_1', 'key_2' and 'key_3'. To retrieve a value from the dictionary, we use it's keyword:"
   ]
  },
  {
   "cell_type": "code",
   "execution_count": null,
   "metadata": {
    "collapsed": false
   },
   "outputs": [],
   "source": [
    "print (dictionary['key_1'])\n",
    "print (dictionary['key_2'])\n",
    "print (dictionary['key_3'])"
   ]
  },
  {
   "cell_type": "markdown",
   "metadata": {},
   "source": [
    "We can also print the entries of a dictionary using:"
   ]
  },
  {
   "cell_type": "code",
   "execution_count": null,
   "metadata": {
    "collapsed": false
   },
   "outputs": [],
   "source": [
    "print (dictionary.keys())\n",
    "print (dictionary.values())\n",
    "print (dictionary.items())"
   ]
  },
  {
   "cell_type": "markdown",
   "metadata": {},
   "source": [
    "If we are unsure about how long our dictionary is going to be or what it's entries will be, we can also create an empty dictionary and then add it's values and keywords afterwards. The values stored in a dictionary do of course not have to be integers or floats:"
   ]
  },
  {
   "cell_type": "code",
   "execution_count": null,
   "metadata": {
    "collapsed": true
   },
   "outputs": [],
   "source": [
    "food = {}\n",
    "food['apples'] = 'Yes'\n",
    "food['cake'] = 'Yes'\n",
    "food['onions'] = 'No'"
   ]
  },
  {
   "cell_type": "markdown",
   "metadata": {},
   "source": [
    "To print all entries in a dictionary, we can use this special version of a for loop:"
   ]
  },
  {
   "cell_type": "code",
   "execution_count": null,
   "metadata": {
    "collapsed": false
   },
   "outputs": [],
   "source": [
    "for word, meaning in food.items():\n",
    "    print ('Do you like %s?' % word)\n",
    "    print ('%s!' % meaning)"
   ]
  },
  {
   "cell_type": "markdown",
   "metadata": {},
   "source": [
    "Here, '%s' will be replaced by what follows after '%'. The 's' means that whatever follows after '%' will be converted into a string. You can also use multiple formatting commands in one string:"
   ]
  },
  {
   "cell_type": "code",
   "execution_count": null,
   "metadata": {
    "collapsed": false
   },
   "outputs": [],
   "source": [
    "print ('Hello, my name is %s, and I am a %s.' % ('Einstein', 'goldfish'))"
   ]
  },
  {
   "cell_type": "markdown",
   "metadata": {},
   "source": [
    "For integers you can use '%d': "
   ]
  },
  {
   "cell_type": "code",
   "execution_count": null,
   "metadata": {
    "collapsed": false
   },
   "outputs": [],
   "source": [
    "print ('Hello, my name is %s and I am %d years old.' % ('Emma', 12))\n",
    "print ('Hello, my name is %s and I am %d years old.' % ('Tom', 12.4))"
   ]
  },
  {
   "cell_type": "markdown",
   "metadata": {},
   "source": [
    "## Exercise"
   ]
  },
  {
   "cell_type": "markdown",
   "metadata": {},
   "source": [
    "Create a dictionary that contains information about at least 3 pets:\n",
    "\n",
    "* each key is a kind of animal \n",
    "* each value is an animal's name\n",
    "\n",
    "Use a for loop to print out a series of statements, e.g. 'Willie is a dog.'"
   ]
  },
  {
   "cell_type": "code",
   "execution_count": null,
   "metadata": {
    "collapsed": true
   },
   "outputs": [],
   "source": []
  },
  {
   "cell_type": "markdown",
   "metadata": {},
   "source": [
    "# Functions"
   ]
  },
  {
   "cell_type": "markdown",
   "metadata": {},
   "source": [
    "## Basic functions"
   ]
  },
  {
   "cell_type": "markdown",
   "metadata": {},
   "source": [
    "In python functions are defined using the def command. The following function will simply print its argument:"
   ]
  },
  {
   "cell_type": "code",
   "execution_count": null,
   "metadata": {
    "collapsed": false
   },
   "outputs": [],
   "source": [
    "def f(x):\n",
    "    print ('x = %s' %x )\n",
    "    \n",
    "f(5)\n",
    "f(10)\n",
    "f('test')"
   ]
  },
  {
   "cell_type": "markdown",
   "metadata": {},
   "source": [
    "Of course functions can have multiple arguments and do not have to be called 'f': "
   ]
  },
  {
   "cell_type": "code",
   "execution_count": null,
   "metadata": {
    "collapsed": false
   },
   "outputs": [],
   "source": [
    "def like(a, b, c):\n",
    "    print ('I like %s, %s and %s.' %(a, b, c))\n",
    "\n",
    "like('strawberries', 'apples', 'bananas')\n",
    "like('blue', 'green', 'yellow')"
   ]
  },
  {
   "cell_type": "markdown",
   "metadata": {},
   "source": [
    "If we want our function to return a certain value, we use 'return'."
   ]
  },
  {
   "cell_type": "code",
   "execution_count": null,
   "metadata": {
    "collapsed": false
   },
   "outputs": [],
   "source": [
    "def square_root(x):\n",
    "    return x**(1/2.)\n",
    "\n",
    "print (square_root(2))\n",
    "print (square_root(4))\n",
    "print (square_root(16))"
   ]
  },
  {
   "cell_type": "markdown",
   "metadata": {},
   "source": [
    "And of course functions can also return multipe values: "
   ]
  },
  {
   "cell_type": "code",
   "execution_count": null,
   "metadata": {
    "collapsed": false
   },
   "outputs": [],
   "source": [
    "def mean_median(x):\n",
    "    return np.mean(x), np.median(x)\n",
    "\n",
    "mean1, median1 = mean_median([1, 2, 3, 4, 5, 6, 7])\n",
    "print ('mean = %.2f, median 1 = %.2f: ' %(mean1, median1))\n",
    "# here we have used '%.2f' to print a float with 2 digits\n",
    "\n",
    "mean2, median2 = mean_median([1, 2, 3, 4, 5, 6, 100]) \n",
    "print ('mean = %.2f, median 1 = %.2f: ' %(mean2, median2))"
   ]
  },
  {
   "cell_type": "markdown",
   "metadata": {},
   "source": [
    "## Exercise"
   ]
  },
  {
   "cell_type": "markdown",
   "metadata": {},
   "source": [
    "Create a function that:\n",
    "\n",
    " * prints a message saying that the input value is valid and returns the base 10 logarithm (np.log10()) of its argument if the argument is > 0 \n",
    " * returns -999 and prints an error message if the agrument is <= 0\n",
    "    \n",
    "Test your function using the following values: -10, -5, -1, 0, 1, 5, 10"
   ]
  },
  {
   "cell_type": "markdown",
   "metadata": {},
   "source": [
    "## args and kwargs"
   ]
  },
  {
   "cell_type": "markdown",
   "metadata": {},
   "source": [
    "We can also pass a variable number of arguments to a function. If we want to pass a non-keyworded variable length argument list, we use the single asterisk form *args.  "
   ]
  },
  {
   "cell_type": "markdown",
   "metadata": {},
   "source": [
    "In this example we are passing one normal argument and a multiple number of additional arguments to the function."
   ]
  },
  {
   "cell_type": "code",
   "execution_count": null,
   "metadata": {
    "collapsed": false
   },
   "outputs": [],
   "source": [
    "def test_args(norm_argument, * args):\n",
    "    print ('normal function argument: %d' % norm_argument)\n",
    "    for arg in args:\n",
    "        print ('additional argument: %d' %arg)\n",
    "\n",
    "test_args(1, 2, 3)\n",
    "print ('\\n')\n",
    "test_args(1, 2, 3, 4, 5)"
   ]
  },
  {
   "cell_type": "markdown",
   "metadata": {},
   "source": [
    "We can also input arguments in a keyworded form. To do so, we use two asterisks. Here, we are again passing one normal argument and two keyworded arguments: "
   ]
  },
  {
   "cell_type": "code",
   "execution_count": null,
   "metadata": {
    "collapsed": false
   },
   "outputs": [],
   "source": [
    "def test_kwargs(norm_argument, **kwargs):\n",
    "    print ('normal function argument: %d' %norm_argument)\n",
    "    for key in kwargs:\n",
    "        print ('additional argument: kewyword = %s, value = %s' % (key, kwargs[key]))\n",
    "\n",
    "test_kwargs(1, kwarg1=2, kwarg2=3, kwarg3=4)"
   ]
  },
  {
   "cell_type": "markdown",
   "metadata": {},
   "source": [
    "We can also use the '*args' form when calling a function. Note, that here args has to be a tuple containing three entries."
   ]
  },
  {
   "cell_type": "code",
   "execution_count": null,
   "metadata": {
    "collapsed": false
   },
   "outputs": [],
   "source": [
    "def test_args_call(arg1, arg2, arg3):\n",
    "    print ('first argument: %s' %arg1)\n",
    "    print ('second argument: %s' %arg2)\n",
    "    print ('third argument: %s' %arg3)\n",
    "    \n",
    "args = (1, 'two', 3)\n",
    "test_args_call(*args)"
   ]
  },
  {
   "cell_type": "markdown",
   "metadata": {},
   "source": [
    "Note that you have to pass a dictionary, if you want to do the same for the keyworded arguments:"
   ]
  },
  {
   "cell_type": "code",
   "execution_count": null,
   "metadata": {
    "collapsed": false
   },
   "outputs": [],
   "source": [
    "def test_kwargs_call(arg1, arg2, arg3):\n",
    "    print ('first argument: %s' %arg1)\n",
    "    print ('second argument: %s' %arg2)\n",
    "    print ('third argument: %s' %arg3)\n",
    "\n",
    "kwargs = {'arg2': 'two', 'arg1': 1, 'arg3': 3}\n",
    "test_kwargs_call(**kwargs)"
   ]
  },
  {
   "cell_type": "markdown",
   "metadata": {},
   "source": [
    "If you are not sure which entries the passed dictionary will contain, you can test the entries in the following way:"
   ]
  },
  {
   "cell_type": "code",
   "execution_count": null,
   "metadata": {
    "collapsed": false
   },
   "outputs": [],
   "source": [
    "def pet(animal, name, **kwargs):\n",
    "    print ('My %s is named %s.' % (animal, name))\n",
    "    if 'dog' in kwargs:\n",
    "        print ('I also have a dog, its name is %s.' % kwargs['dog'])\n",
    "    if 'cat' in kwargs:\n",
    "        print ('I also have a cat, its name is %s. ' % kwargs['cat'])\n",
    "\n",
    "kwargs = {'cat': 'Luna'}\n",
    "pet('goldfish', 'Bert', **kwargs)\n",
    "\n",
    "# here we are adding an additional entry to the already existing cat entry\n",
    "kwargs['dog'] = 'Marley'\n",
    "pet('goldfish', 'Bert', **kwargs)"
   ]
  },
  {
   "cell_type": "markdown",
   "metadata": {},
   "source": [
    "## Exercise"
   ]
  },
  {
   "cell_type": "markdown",
   "metadata": {},
   "source": [
    "Create a function that prints your favorite things. Your function should:\n",
    "\n",
    "* contain your name as a standard agrument and print 'My name is XY.'\n",
    "* at least three additional keyworded arguments and print something similar to 'My favorite season is spring.'"
   ]
  },
  {
   "cell_type": "code",
   "execution_count": null,
   "metadata": {
    "collapsed": true
   },
   "outputs": [],
   "source": []
  }
 ],
 "metadata": {
  "kernelspec": {
   "display_name": "Python 2",
   "language": "python",
   "name": "python2"
  },
  "language_info": {
   "codemirror_mode": {
    "name": "ipython",
    "version": 2
   },
   "file_extension": ".py",
   "mimetype": "text/x-python",
   "name": "python",
   "nbconvert_exporter": "python",
   "pygments_lexer": "ipython2",
   "version": "2.7.5"
  }
 },
 "nbformat": 4,
 "nbformat_minor": 0
}
