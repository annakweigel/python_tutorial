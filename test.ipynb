{
 "cells": [
  {
   "cell_type": "code",
   "execution_count": 1,
   "metadata": {
    "collapsed": false
   },
   "outputs": [
    {
     "name": "stderr",
     "output_type": "stream",
     "text": [
      "/Users/Anna/Documents/Ureka/variants/common/lib/python2.7/site-packages/IPython/kernel/__init__.py:13: ShimWarning: The `IPython.kernel` package has been deprecated. You should import from ipykernel or jupyter_client instead.\n",
      "  \"You should import from ipykernel or jupyter_client instead.\", ShimWarning)\n"
     ]
    }
   ],
   "source": [
    "# read in the entire package and give it an abbreviation to be able to refer to it\n",
    "import numpy as np \n",
    "import matplotlib.pyplot as plt \n",
    "# or only read in one particular class\n",
    "from astropy.io import fits"
   ]
  },
  {
   "cell_type": "code",
   "execution_count": 2,
   "metadata": {
    "collapsed": false
   },
   "outputs": [
    {
     "name": "stdout",
     "output_type": "stream",
     "text": [
      "2\n",
      "10\n",
      "test\n",
      "this is now a string\n"
     ]
    }
   ],
   "source": [
    "# integers\n",
    "a = 2\n",
    "b = 10\n",
    "# string\n",
    "c = 'test'\n",
    "# float\n",
    "d = 0.5\n",
    "e = 5e1\n",
    "f = 5*10**(2)\n",
    "# bool\n",
    "g = True\n",
    "h = False\n",
    "\n",
    "print a\n",
    "print b\n",
    "print c\n",
    "\n",
    "# reassign variable\n",
    "d = 'this is now a string'\n",
    "\n",
    "print d"
   ]
  },
  {
   "cell_type": "code",
   "execution_count": null,
   "metadata": {
    "collapsed": true
   },
   "outputs": [],
   "source": []
  }
 ],
 "metadata": {
  "kernelspec": {
   "display_name": "Python 2",
   "language": "python",
   "name": "python2"
  },
  "language_info": {
   "codemirror_mode": {
    "name": "ipython",
    "version": 2
   },
   "file_extension": ".py",
   "mimetype": "text/x-python",
   "name": "python",
   "nbconvert_exporter": "python",
   "pygments_lexer": "ipython2",
   "version": "2.7.5"
  }
 },
 "nbformat": 4,
 "nbformat_minor": 0
}
