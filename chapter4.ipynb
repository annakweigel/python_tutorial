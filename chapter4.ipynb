{
 "cells": [
  {
   "cell_type": "markdown",
   "metadata": {},
   "source": [
    "# Working with .fits files"
   ]
  },
  {
   "cell_type": "code",
   "execution_count": null,
   "metadata": {
    "collapsed": true
   },
   "outputs": [],
   "source": [
    "import numpy as np"
   ]
  },
  {
   "cell_type": "markdown",
   "metadata": {},
   "source": [
    ".fits tables are easily read in whith the astropy package. Besides including functions to deal with .fits files, astropy also provides functions for cosmology (e.g. calculating distances), coordinate systems (e.g. dealing with wcs) and unit conversions. \n",
    "\n",
    "For astropy's full range of fits functions and how to work with image data see:\n",
    "http://astropy.readthedocs.org/en/stable/io/fits/index.html"
   ]
  },
  {
   "cell_type": "markdown",
   "metadata": {},
   "source": [
    "## fits tables"
   ]
  },
  {
   "cell_type": "markdown",
   "metadata": {},
   "source": [
    "Here we're simply reading in a fits table."
   ]
  },
  {
   "cell_type": "code",
   "execution_count": null,
   "metadata": {
    "collapsed": false
   },
   "outputs": [],
   "source": [
    "from astropy.io import fits\n",
    "\n",
    "#define path\n",
    "path = 'SDSS_test_cat.fits'\n",
    "\n",
    "#read in table data\n",
    "cat= fits.open(path)[1].data\n",
    "\n",
    "#read in columns\n",
    "ID = cat.field('SDSS_ID')\n",
    "z = cat.field('Z')\n",
    "print (ID, z)\n",
    "\n",
    "#if we want to know more about the fits file itself,\n",
    "#we can easily read in the hdulist\n",
    "hdulist = fits.open(path)\n",
    "print (hdulist.info())"
   ]
  },
  {
   "cell_type": "markdown",
   "metadata": {},
   "source": [
    "## fits images"
   ]
  },
  {
   "cell_type": "markdown",
   "metadata": {},
   "source": [
    "fits images can be accessed in a similar fashion. However, if you want to plot fits images and e.g. show contours or mark a certain position, it's easier to use aplpy instead (https://aplpy.github.io). We can determine the flux in each pixel in the following way:"
   ]
  },
  {
   "cell_type": "code",
   "execution_count": null,
   "metadata": {
    "collapsed": false
   },
   "outputs": [],
   "source": [
    "path = '589_b_CDFs_goods_stamp_img.fits'\n",
    "hdulist = fits.open(path)\n",
    "img_data = hdulist[0].data\n",
    "\n",
    "print ('flux of each pixel: ', img_data)"
   ]
  },
  {
   "cell_type": "markdown",
   "metadata": {},
   "source": [
    "## Exercise"
   ]
  },
  {
   "cell_type": "markdown",
   "metadata": {},
   "source": [
    "Determine the median flux of the central 20x20 pixels of the fits image. Compare the median of the central pixels to the median flux of the entire image. Is the flux in the center significantly higher?"
   ]
  },
  {
   "cell_type": "code",
   "execution_count": null,
   "metadata": {
    "collapsed": true
   },
   "outputs": [],
   "source": []
  }
 ],
 "metadata": {
  "kernelspec": {
   "display_name": "Python 2",
   "language": "python",
   "name": "python2"
  },
  "language_info": {
   "codemirror_mode": {
    "name": "ipython",
    "version": 2
   },
   "file_extension": ".py",
   "mimetype": "text/x-python",
   "name": "python",
   "nbconvert_exporter": "python",
   "pygments_lexer": "ipython2",
   "version": "2.7.5"
  }
 },
 "nbformat": 4,
 "nbformat_minor": 0
}
