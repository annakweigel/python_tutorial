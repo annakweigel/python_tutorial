{
 "cells": [
  {
   "cell_type": "markdown",
   "metadata": {},
   "source": [
    "# Plotting I"
   ]
  },
  {
   "cell_type": "markdown",
   "metadata": {},
   "source": [
    "Here we are using matplotlib to create plots. To be able to see the plots in this notebook, we use the matplotlib magic line. This is a ipython notebook specific thing. \n",
    "\n",
    "If you're using python from within a normal editor (Sublime or PyCharm) a simple plt.show() at the end of your script will open an external window showing your plot. This allows you to see you're plot without having to save it first."
   ]
  },
  {
   "cell_type": "code",
   "execution_count": null,
   "metadata": {
    "collapsed": false
   },
   "outputs": [],
   "source": [
    "import numpy as np\n",
    "from astropy.io import fits\n",
    "import matplotlib.pyplot as plt \n",
    "%matplotlib inline"
   ]
  },
  {
   "cell_type": "markdown",
   "metadata": {},
   "source": [
    "Matplotlib is built on two basic components: figures and axes. The figure is the window in which a plot is created. Each figure can contain one plot or multiple subplots/axes.\n",
    "\n",
    "If we want to create a very simple plot, there is no need to define the figure and the axes. Matplotlib takes care of it for us:    "
   ]
  },
  {
   "cell_type": "code",
   "execution_count": null,
   "metadata": {
    "collapsed": false
   },
   "outputs": [],
   "source": [
    "#create an array with values between 0 and 10\n",
    "x = np.arange(0, 11, 1)\n",
    "#create an array with values between 10 and 20\n",
    "y = np.arange(10, 21, 1)\n",
    "\n",
    "#plot y(x)\n",
    "plt.plot(x, y)"
   ]
  },
  {
   "cell_type": "markdown",
   "metadata": {},
   "source": [
    "# Python masks"
   ]
  },
  {
   "cell_type": "markdown",
   "metadata": {},
   "source": [
    "Masks will basically speed up everything you're doing by replacing for loops. They are extremely useful if you're dealing with large arrays. Lets's do the same thing: once with a for loop and once with a mask:"
   ]
  },
  {
   "cell_type": "markdown",
   "metadata": {},
   "source": [
    "## Example I"
   ]
  },
  {
   "cell_type": "code",
   "execution_count": null,
   "metadata": {
    "collapsed": false
   },
   "outputs": [],
   "source": [
    "# this will create a 1D array with 100 entries\n",
    "# starting at 0 and ending at 99\n",
    "a = np.arange(0, 20, 1)\n",
    "\n",
    "# we want to set all values to -999. for which the division by 3 produces no rest\n",
    "\n",
    "# with a for loop\n",
    "for i in range(len(a)):\n",
    "    if a[i]%3 == 0:\n",
    "        a[i] = -999.\n",
    "\n",
    "print ('array a, with the for loop: ')\n",
    "print (a) \n",
    "\n",
    "\n",
    "a = np.arange(0, 20, 1)\n",
    "# we can speed this (ok, very simple) process up by using a mask\n",
    "# this is our mask: it will select all entries for which modulo 3 is 0\n",
    "mask = (a%3 == 0)\n",
    "# we can now apply this to our array a\n",
    "# and set the values to which this applies to -999.\n",
    "a[mask] = -999.\n",
    "\n",
    "print ('array a, with the mask: ')\n",
    "print (a)"
   ]
  },
  {
   "cell_type": "markdown",
   "metadata": {},
   "source": [
    "## Example II"
   ]
  },
  {
   "cell_type": "markdown",
   "metadata": {},
   "source": [
    "In this second example we want to create 1000 points with random x and y coordinates and then use a function to select a subset of these points.\n",
    "\n",
    "To do so, we use numpy's random_sample function which draws a certain number of float values from the interval [0.0, 1.0) "
   ]
  },
  {
   "cell_type": "code",
   "execution_count": null,
   "metadata": {
    "collapsed": false
   },
   "outputs": [],
   "source": [
    "# create 1000 random x and y values \n",
    "x = np.random.random_sample(1000)\n",
    "y = np.random.random_sample(1000)\n",
    "\n",
    "# let's plot these points\n",
    "plt.plot(x, y, marker='.', color='black', linestyle='', \n",
    "         rasterized=True)"
   ]
  },
  {
   "cell_type": "code",
   "execution_count": null,
   "metadata": {
    "collapsed": false
   },
   "outputs": [],
   "source": [
    "def func(x):\n",
    "    return -x**2 + 1\n",
    "# let's plot the function first\n",
    "x_range = np.arange(0, 1.1, 0.1)\n",
    "plt.plot(x_range, func(x_range), linestyle='-',\n",
    "        color='red')"
   ]
  },
  {
   "cell_type": "markdown",
   "metadata": {},
   "source": [
    "To select the points below func, we will now introduce a mask called below_line:"
   ]
  },
  {
   "cell_type": "code",
   "execution_count": null,
   "metadata": {
    "collapsed": true
   },
   "outputs": [],
   "source": [
    "below_line = (y < func(x))"
   ]
  },
  {
   "cell_type": "markdown",
   "metadata": {},
   "source": [
    "Check if this gives the right result by plotting the points: "
   ]
  },
  {
   "cell_type": "code",
   "execution_count": null,
   "metadata": {
    "collapsed": false
   },
   "outputs": [],
   "source": [
    "plt.plot(x_range, func(x_range), linestyle='-',\n",
    "        color='red')\n",
    "plt.plot(x[below_line], y[below_line], marker='.', color='red',\n",
    "         linestyle='', rasterized=True)"
   ]
  },
  {
   "cell_type": "markdown",
   "metadata": {},
   "source": [
    "We can also select the points above the line:"
   ]
  },
  {
   "cell_type": "code",
   "execution_count": null,
   "metadata": {
    "collapsed": false
   },
   "outputs": [],
   "source": [
    "above_line = (y >= func(x))\n",
    "plt.plot(x_range, func(x_range), linestyle='-',\n",
    "        color='red')\n",
    "plt.plot(x[above_line], y[above_line], marker='.', color='black',\n",
    "         linestyle='', rasterized=True)"
   ]
  },
  {
   "cell_type": "markdown",
   "metadata": {},
   "source": [
    "Our masks can also contain more than one condition: "
   ]
  },
  {
   "cell_type": "code",
   "execution_count": null,
   "metadata": {
    "collapsed": false
   },
   "outputs": [],
   "source": [
    "mask1 = (y >= func(x)) & (x <= 0.5)\n",
    "mask2 = (y < func(x)) & (x >= 0.5)\n",
    "\n",
    "plt.plot(x_range, func(x_range), linestyle='-',\n",
    "        color='red')\n",
    "plt.plot(x[mask1], y[mask1], marker='.', color='red',\n",
    "         linestyle='', rasterized=True)\n",
    "plt.plot(x[mask2], y[mask2], marker='.', color='black',\n",
    "         linestyle='', rasterized=True)"
   ]
  },
  {
   "cell_type": "markdown",
   "metadata": {},
   "source": [
    "## Example III"
   ]
  },
  {
   "cell_type": "markdown",
   "metadata": {},
   "source": [
    "Of course we can also apply masks to real data. Let's read in our fits file again:"
   ]
  },
  {
   "cell_type": "code",
   "execution_count": null,
   "metadata": {
    "collapsed": false
   },
   "outputs": [],
   "source": [
    "path = 'SDSS_test_cat.fits'\n",
    "cat= fits.open(path)[1].data\n",
    "ID = cat.field('SDSS_ID')\n",
    "z = cat.field('Z')\n",
    "\n",
    "# select objects in redshift range\n",
    "mask = (z > 0.01) & (z < 0.05)\n",
    "\n",
    "# print the ID of all objects in this redshift range\n",
    "print ('IDs objects in range: ') \n",
    "print (ID[mask])\n",
    "#print the totla number of objects in this redshift range\n",
    "print ('Number of objects in range: %.2e' % len(ID[mask]))\n",
    "\n",
    "# we can also use the same mask to select the obejcts that are not \n",
    "# in this redshift range\n",
    "print ('IDs objects NOT in range: ')\n",
    "print (ID[~mask])\n",
    "print ('Number of objects NOT in range: %.2e' % len(ID[~mask]))\n",
    "\n",
    "# and let's make sure we are really selecting all objects\n",
    "print ('all objects in file: %.2e' %len(ID))\n",
    "print ('objects selected with mask and ~mask: %.2e' %(len(ID[mask]) + len(ID[~mask])))"
   ]
  },
  {
   "cell_type": "markdown",
   "metadata": {},
   "source": [
    "Above we have defined the mask based on the 'z' array. We have then applied it to the 'ID' array. If you're working with masks it's important that __all__ of your arrays have the __same shape and the same length__. Otherwise you might be selecting the wrong objects. Also: rather than using multiple masks on the same array at the same time, create one big mask and apply it once. Keep it simple to make sure that everything is working correctly! "
   ]
  },
  {
   "cell_type": "markdown",
   "metadata": {},
   "source": [
    "## Exercise"
   ]
  },
  {
   "cell_type": "markdown",
   "metadata": {},
   "source": [
    "Use the array named 'Zoo' below to determine mean ages and weights of Zoo animals. \n",
    "\n",
    "* print the name, age and weight of all elephants\n",
    "\n",
    "Then split the array into four vectors containing the species, the names, the age and the weight of the animals. Convert the age and weight vectors from string to float and calculate:\n",
    "\n",
    "* the average age of all animals \n",
    "* the average weight of all animals\n",
    "* the average weight of all elephants\n",
    "* the average weight of all animals that are not elephants\n",
    "* the average age of all animals that weigh less than 1000kg \n",
    "* the average age of all elephants that are less than 50 years old"
   ]
  },
  {
   "cell_type": "code",
   "execution_count": null,
   "metadata": {
    "collapsed": true
   },
   "outputs": [],
   "source": [
    "Zoo = np.array([['Elephant', 'Lisa', '60.', '5560.'],\n",
    "               ['Tiger', 'Sheldon', '22.', '250.'],\n",
    "               ['Bear', 'Brutus', '18.', '198.'],\n",
    "               ['Hippopotamus', 'Lucy', '55.', '1012.'],\n",
    "               ['Elephant', 'Peanut', '3.', '100.'],\n",
    "               ['Seaotter', 'Otto', '12.', '25.'],\n",
    "               ['Elephant', 'Nadim', '32.', '6000.']])"
   ]
  },
  {
   "cell_type": "code",
   "execution_count": null,
   "metadata": {
    "collapsed": true
   },
   "outputs": [],
   "source": []
  }
 ],
 "metadata": {
  "kernelspec": {
   "display_name": "Python 2",
   "language": "python",
   "name": "python2"
  },
  "language_info": {
   "codemirror_mode": {
    "name": "ipython",
    "version": 2
   },
   "file_extension": ".py",
   "mimetype": "text/x-python",
   "name": "python",
   "nbconvert_exporter": "python",
   "pygments_lexer": "ipython2",
   "version": "2.7.5"
  }
 },
 "nbformat": 4,
 "nbformat_minor": 0
}
