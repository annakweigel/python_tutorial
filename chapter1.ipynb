{
 "cells": [
  {
   "cell_type": "markdown",
   "metadata": {},
   "source": [
    "# Introduction"
   ]
  },
  {
   "cell_type": "markdown",
   "metadata": {},
   "source": [
    "### Anna K. Weigel, anna.weigel@phys.ethz.ch"
   ]
  },
  {
   "cell_type": "markdown",
   "metadata": {},
   "source": [
    "## The Python principle "
   ]
  },
  {
   "cell_type": "markdown",
   "metadata": {},
   "source": [
    "Python is __indentation based__. We increase the indendation to start a new block (e.g. in an if statement, a for loop or the definition of a function). We decrease the indenation to signify the end of this block. There is no need for braces. \n",
    "\n",
    "You can use tabs or whitespaces for the indentation. Just don't mix the two. Whitespaces are considered to be 'good style' since tabs can be displayed differently on different types of systems or editors. The exact amount of indentation doesn't matter, only the relative indentation of the nested blocks is important. Apart from the very left of your statements, python doesn't care where you put whitespaces or empty lines.  "
   ]
  },
  {
   "cell_type": "markdown",
   "metadata": {},
   "source": [
    "## Running python"
   ]
  },
  {
   "cell_type": "markdown",
   "metadata": {},
   "source": [
    "Python/iPython can be run through three different channels:\n",
    "> You can start Python in your shell by typing 'python'. If you want to use the more userfriendly iPython type: 'ipython'.\n",
    "\n",
    "> You can run a script that you created. Let's say you have created a file with the name 'test_script.py'. It contains: \n",
    "    \n",
    "       print ('Hello World')\n",
    "    \n",
    "> You can run it by typing 'python test_script.py' in your shell. Note that since Python is an interpreted language, scripts do not need to be compiled to be executed.\n",
    "\n",
    "> You can also work with iPython notebooks which is what we are doing here. To open iPython notebooks in your browser, type 'ipython notebook' in your shell."
   ]
  },
  {
   "cell_type": "markdown",
   "metadata": {},
   "source": [
    "## iPython/Jupyter notebooks"
   ]
  },
  {
   "cell_type": "markdown",
   "metadata": {},
   "source": [
    "iPython (or Jupyter) notebooks have a few nice little features compared to a simple editor. An iPython notebook let's you:\n",
    "\n",
    "* combine standard python scripts with comments in Markdown, LaTex and HTML\n",
    "* add figures and equations \n",
    "* and easily convert your code into slides, html, latex or simply a normal python script (see e.g.  here: https://ipython.org/ipython-doc/3/notebook/nbconvert.html) \n",
    "\n",
    "iPython notebooks are therefore a nice way to illustrate things or to keep track of your plots. In an iPython notebook you can also run cell boxes separately, instead of running the whole script again and again. This is nice if you e.g. want to work on a plot without having to regenerate the data each time you change something.\n",
    "\n",
    "To incorporate iPython notebooks into your work routine, you could e.g. have an external script that contains all the core functions or the class for the problem you're working on. To plot your results, you could then import these functions or the class into an iPython notebook."
   ]
  },
  {
   "cell_type": "markdown",
   "metadata": {},
   "source": [
    "## Python editors"
   ]
  },
  {
   "cell_type": "markdown",
   "metadata": {},
   "source": [
    "* A popular Python editor is sublime (https://www.sublimetext.com). Sublime is a free, versatile editor for which you can find many little packages on GitHub.\n",
    "\n",
    "* PyCharm on the other hand is a full IDE (https://www.jetbrains.com/pycharm/) specifically designed for Python. It's got a debugger and offers code completion. Amongst many other features, it also immediately highlights errors and bits of your code that are not Pep8 (python style guide) conform and is GitHub compatible.  \n",
    "\n"
   ]
  },
  {
   "cell_type": "markdown",
   "metadata": {},
   "source": [
    "## Python help"
   ]
  },
  {
   "cell_type": "markdown",
   "metadata": {},
   "source": [
    "* The python community is large and so the chances that somebody has had the same issue that you're facing are high. 'google' is therefore your best friend. \n",
    "\n",
    "* There is a wide range of Python tutorials, here's a short list http://www.astrobetter.com/wiki/python. A good one is e.g.:\n",
    "\n",
    "       > software carpentry python introduction: http://swcarpentry.github.io/python-novice-inflammation/\n",
    "\n",
    "* If you're switching from IDL to python this list of python equivalents to IDL commands might be useful:\n",
    "\n",
    "       > http://www.astrobetter.com/wiki/tiki-index.php?page=Python+Switchers+Guide\n",
    "\n",
    "* And here is a list of IDL commands and the corresponding numpy commands:\n",
    "\n",
    "       > http://mathesaurus.sourceforge.net/idl-numpy.html"
   ]
  },
  {
   "cell_type": "markdown",
   "metadata": {},
   "source": [
    "## Python packages"
   ]
  },
  {
   "cell_type": "markdown",
   "metadata": {},
   "source": [
    "In this Python introduction we will be working with numpy, astropy and matplotlib. \n",
    "\n",
    "Other useful python packages that we're not going to talk about today are e.g.:\n",
    "\n",
    "* scipy: Integration, Interpolation, Linear Algebra, Fourier Transforms etc. (numpy and matplotlib are actually part of the scipy package, strictly speaking)\n",
    "\n",
    "* aplpy: plot fits images, http://aplpy.readthedocs.org/en/stable/#\n",
    "\n",
    "* seaborn: statistical data visualization package, let's you create very nice plots, does however lack the flexibility of matplotlib, http://stanford.edu/~mwaskom/software/seaborn/ "
   ]
  },
  {
   "cell_type": "markdown",
   "metadata": {},
   "source": [
    "# The Basics"
   ]
  },
  {
   "cell_type": "markdown",
   "metadata": {},
   "source": [
    "## Variable definition"
   ]
  },
  {
   "cell_type": "markdown",
   "metadata": {},
   "source": [
    "When defining a varibale in python, there is no need for specifiying if the variable is meant to be an integer, float, bool, string, long etc. Variables can also be reassigned as a different data type. "
   ]
  },
  {
   "cell_type": "code",
   "execution_count": null,
   "metadata": {
    "collapsed": false
   },
   "outputs": [],
   "source": [
    "# integers\n",
    "a = 2\n",
    "b = 10\n",
    "# string\n",
    "c = 'test'\n",
    "# float\n",
    "d = 0.5\n",
    "e = 5e1\n",
    "f = 5*10**(2)\n",
    "# bool\n",
    "g = True\n",
    "h = False\n",
    "\n",
    "print (a)\n",
    "print (b)\n",
    "print (c)\n",
    "\n",
    "# reassign variable\n",
    "d = 'this is now a string'\n",
    "\n",
    "print (d)"
   ]
  },
  {
   "cell_type": "markdown",
   "metadata": {},
   "source": [
    "## Simple math operations"
   ]
  },
  {
   "cell_type": "markdown",
   "metadata": {},
   "source": [
    "Simple math operations are very straight forward in python, but keep an eye out when calculating ratios: if both the numerator and the denominator are integers, the result will be an integer as well. This can easily be avoided by e.g. converting the denominator into a float."
   ]
  },
  {
   "cell_type": "code",
   "execution_count": null,
   "metadata": {
    "collapsed": false
   },
   "outputs": [],
   "source": [
    "a = 2\n",
    "b = 10\n",
    "\n",
    "print ('a = ', a, '& b = ', b)\n",
    "print ('sum of a & b: ', a + b)\n",
    "print ('difference between a & b: ', b - a)\n",
    "print ('product of a & b: ', a*b)\n",
    "print ('ratio between a & b (b = integer): ', a/b)\n",
    "print ('ratio between a & b (b = float): ', a/float(b))"
   ]
  },
  {
   "cell_type": "markdown",
   "metadata": {},
   "source": [
    "## Strings"
   ]
  },
  {
   "cell_type": "markdown",
   "metadata": {},
   "source": [
    "strings can simply be added to other strings."
   ]
  },
  {
   "cell_type": "code",
   "execution_count": null,
   "metadata": {
    "collapsed": false
   },
   "outputs": [],
   "source": [
    "string_1 = 'AGN '\n",
    "string_2 = 'are '\n",
    "string_3 = 'cool!'\n",
    "print (string_1 + string_2 + string_3)"
   ]
  },
  {
   "cell_type": "markdown",
   "metadata": {},
   "source": [
    "## if statements"
   ]
  },
  {
   "cell_type": "markdown",
   "metadata": {},
   "source": [
    "if statements are easy: no ';' or ',' and especially no braces required! Python knows what's part of the if statement based on the indentation. "
   ]
  },
  {
   "cell_type": "code",
   "execution_count": null,
   "metadata": {
    "collapsed": false
   },
   "outputs": [],
   "source": [
    "a = 2\n",
    "if a==2:\n",
    "    print ('a = 2')\n",
    "\n",
    "b = True\n",
    "if b:\n",
    "    print ('b is true.')\n",
    "\n",
    "c = 'apples'\n",
    "if 'a' in c:\n",
    "    print ('c includes an a.')\n",
    "\n",
    "d = 11\n",
    "if d%5 == 0:\n",
    "    print ('d%5 = 0.')\n",
    "else:\n",
    "    print ('d%5 = ', d%5)\n",
    "\n"
   ]
  },
  {
   "cell_type": "markdown",
   "metadata": {},
   "source": [
    "## Lists"
   ]
  },
  {
   "cell_type": "markdown",
   "metadata": {},
   "source": [
    "Lists are defined with square brackets. They can contain integers, floats and even strings (no need to specify) and we can call, change and add arguments. We can also define an empty list and add new arguments as we go along. So the length of the list does not have to be known a priori. "
   ]
  },
  {
   "cell_type": "code",
   "execution_count": null,
   "metadata": {
    "collapsed": false
   },
   "outputs": [],
   "source": [
    "# define a list\n",
    "a = [1, 2, 3]\n",
    "print (a)\n",
    "\n",
    "# call its arguments\n",
    "print ('first argument: ', a[0])\n",
    "print ('second argument: ', a[1])\n",
    "\n",
    "print ('first and second argument: ', a[0:2])\n",
    "print ('last argument: ', a[-1])\n",
    "print ('second last argument: ', a[-2])\n",
    "print ('all arguments: ', a[:])\n",
    "\n",
    "# change an argument\n",
    "a[1] = 10\n",
    "print ('second argument changed: ', a)\n",
    "\n",
    "# add a new entry\n",
    "a.append(4)\n",
    "print ('new argument added: ', a)\n",
    "\n",
    "# list of strings\n",
    "b = ['!', 'a', 't', 'o', 'r', 's']\n",
    "print ('list of strings: ', b[1], b[5], b[2], b[4], b[3], b[0])\n",
    "\n",
    "# define an empty list\n",
    "c = []\n",
    "print ('empty list: ', c)\n",
    "c.append(100)\n",
    "print ('argument added: ', c)"
   ]
  },
  {
   "cell_type": "markdown",
   "metadata": {},
   "source": [
    "## For loops"
   ]
  },
  {
   "cell_type": "markdown",
   "metadata": {},
   "source": [
    "For for loops the same principles apply as for the if statements: python knows what's part of the loop through the indentation. In python we always start counting at 0!"
   ]
  },
  {
   "cell_type": "code",
   "execution_count": null,
   "metadata": {
    "collapsed": false
   },
   "outputs": [],
   "source": [
    "# simple for loop: print the index\n",
    "# this loop will run from 0 - 9 > 10 is the total number of repetions \n",
    "for i in range(10):\n",
    "    print (i) \n",
    "    \n",
    "print ('-----')\n",
    "\n",
    "# we can also change the step size (2) and the start and end points\n",
    "# this loop will start at 10 and end at 18 > the 20 is not included\n",
    "for i in range(10, 20, 2):\n",
    "    print (i)\n",
    "\n",
    "print ('-----')\n",
    "\n",
    "# we can also loop through a list of unknown length\n",
    "# here the length function 'len' is key!\n",
    "a = ['a', 's', 't', 'r', 'o']\n",
    "for i in range(len(a)):\n",
    "    print (i, a[i]) "
   ]
  },
  {
   "cell_type": "markdown",
   "metadata": {},
   "source": [
    "## If statements and for loops in a single line"
   ]
  },
  {
   "cell_type": "markdown",
   "metadata": {},
   "source": [
    "For loops and if statements can also be compressed to a single line. This is e.g. useful to fill a list or for short if statements. Note, that your if statement always needs an 'else'."
   ]
  },
  {
   "cell_type": "code",
   "execution_count": null,
   "metadata": {
    "collapsed": false
   },
   "outputs": [],
   "source": [
    "# single line if statements\n",
    "b = True\n",
    "a = 2 if b else 3 \n",
    "print (a)\n",
    "\n",
    "print ('b is True' if b else 'b is False')\n",
    "\n",
    "c = 5\n",
    "d = True if c % 2 == 0 else False\n",
    "print ('c % 2 == 0' if d else 'c %2 != 0')\n",
    "\n",
    "c = 4 \n",
    "d = True if c % 2 == 0 else False\n",
    "print ('c % 2 == 0' if d else 'c %2 != 0')\n",
    "\n",
    "# single line for loops\n",
    "list1 = [x for x in range(10)]\n",
    "print ('list1: ', list1)\n",
    "\n",
    "list2 = [i + j for i in range(2) for j in range(5)]\n",
    "print ('list2: ', list2)\n",
    "\n",
    "# this is equivalent to:\n",
    "list3 = []\n",
    "for i in range(2):\n",
    "    for j in range(5):\n",
    "        list3.append(i + j)\n",
    "print ('list3: ', list3)        "
   ]
  },
  {
   "cell_type": "code",
   "execution_count": null,
   "metadata": {
    "collapsed": true
   },
   "outputs": [],
   "source": []
  }
 ],
 "metadata": {
  "kernelspec": {
   "display_name": "Python 2",
   "language": "python",
   "name": "python2"
  },
  "language_info": {
   "codemirror_mode": {
    "name": "ipython",
    "version": 2
   },
   "file_extension": ".py",
   "mimetype": "text/x-python",
   "name": "python",
   "nbconvert_exporter": "python",
   "pygments_lexer": "ipython2",
   "version": "2.7.5"
  }
 },
 "nbformat": 4,
 "nbformat_minor": 0
}
