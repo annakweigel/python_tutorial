{
 "cells": [
  {
   "cell_type": "code",
   "execution_count": null,
   "metadata": {
    "collapsed": true
   },
   "outputs": [],
   "source": [
    "print 'a = ', a, '& b = ', b  \n",
    "print 'sum of a & b: ', a + b\n",
    "print 'difference between a & b: ', b - a\n",
    "print 'product of a & b: ', a*b\n",
    "print 'ratio between a & b (b = integer): ', a/b\n",
    "print 'ratio between a & b (b = float): ', a/float(b)"
   ]
  }
 ],
 "metadata": {
  "kernelspec": {
   "display_name": "Python 2",
   "language": "python",
   "name": "python2"
  },
  "language_info": {
   "codemirror_mode": {
    "name": "ipython",
    "version": 2
   },
   "file_extension": ".py",
   "mimetype": "text/x-python",
   "name": "python",
   "nbconvert_exporter": "python",
   "pygments_lexer": "ipython2",
   "version": "2.7.5"
  }
 },
 "nbformat": 4,
 "nbformat_minor": 0
}
